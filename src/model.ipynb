{
 "cells": [
  {
   "cell_type": "code",
   "execution_count": 186,
   "metadata": {},
   "outputs": [],
   "source": [
    "import pandas as pd\n",
    "import numpy as np\n",
    "\n",
    "from sklearn.metrics import r2_score, classification_report, confusion_matrix\n",
    "from sklearn.model_selection import StratifiedKFold, train_test_split, GridSearchCV\n",
    "from sklearn.preprocessing import StandardScaler\n",
    "from sklearn.decomposition import PCA\n",
    "\n",
    "import lightgbm as lgb\n",
    "\n",
    "import matplotlib.pyplot as plt"
   ]
  },
  {
   "cell_type": "markdown",
   "metadata": {},
   "source": [
    "#### Read processed data"
   ]
  },
  {
   "cell_type": "code",
   "execution_count": 2,
   "metadata": {},
   "outputs": [],
   "source": [
    "dftrain = pd.read_csv('../data/cleaned_train.csv')\n",
    "dftest = pd.read_csv('../data/cleaned_test.csv')"
   ]
  },
  {
   "cell_type": "markdown",
   "metadata": {},
   "source": [
    "#### Data standarization"
   ]
  },
  {
   "cell_type": "code",
   "execution_count": 14,
   "metadata": {},
   "outputs": [
    {
     "data": {
      "text/html": [
       "<div>\n",
       "<style scoped>\n",
       "    .dataframe tbody tr th:only-of-type {\n",
       "        vertical-align: middle;\n",
       "    }\n",
       "\n",
       "    .dataframe tbody tr th {\n",
       "        vertical-align: top;\n",
       "    }\n",
       "\n",
       "    .dataframe thead th {\n",
       "        text-align: right;\n",
       "    }\n",
       "</style>\n",
       "<table border=\"1\" class=\"dataframe\">\n",
       "  <thead>\n",
       "    <tr style=\"text-align: right;\">\n",
       "      <th></th>\n",
       "      <th>target</th>\n",
       "      <th>48df886f9</th>\n",
       "      <th>0deb4b6a8</th>\n",
       "      <th>34b15f335</th>\n",
       "      <th>a8cb14b00</th>\n",
       "      <th>2f0771a37</th>\n",
       "      <th>30347e683</th>\n",
       "      <th>d08d1fbe3</th>\n",
       "      <th>6ee66e115</th>\n",
       "      <th>20aa07010</th>\n",
       "      <th>...</th>\n",
       "      <th>3ecc09859</th>\n",
       "      <th>9281abeea</th>\n",
       "      <th>8675bec0b</th>\n",
       "      <th>3a13ed79a</th>\n",
       "      <th>f677d4d13</th>\n",
       "      <th>71b203550</th>\n",
       "      <th>137efaa80</th>\n",
       "      <th>fb36b89d9</th>\n",
       "      <th>7e293fbaf</th>\n",
       "      <th>9fc776466</th>\n",
       "    </tr>\n",
       "  </thead>\n",
       "  <tbody>\n",
       "    <tr>\n",
       "      <th>0</th>\n",
       "      <td>38000000.0</td>\n",
       "      <td>0.0</td>\n",
       "      <td>0</td>\n",
       "      <td>0.0</td>\n",
       "      <td>0</td>\n",
       "      <td>0</td>\n",
       "      <td>0</td>\n",
       "      <td>0</td>\n",
       "      <td>0</td>\n",
       "      <td>0.0</td>\n",
       "      <td>...</td>\n",
       "      <td>0.0</td>\n",
       "      <td>0.0</td>\n",
       "      <td>0.0</td>\n",
       "      <td>0</td>\n",
       "      <td>0</td>\n",
       "      <td>0</td>\n",
       "      <td>0</td>\n",
       "      <td>0</td>\n",
       "      <td>0</td>\n",
       "      <td>0</td>\n",
       "    </tr>\n",
       "    <tr>\n",
       "      <th>1</th>\n",
       "      <td>600000.0</td>\n",
       "      <td>0.0</td>\n",
       "      <td>0</td>\n",
       "      <td>0.0</td>\n",
       "      <td>0</td>\n",
       "      <td>0</td>\n",
       "      <td>0</td>\n",
       "      <td>0</td>\n",
       "      <td>0</td>\n",
       "      <td>2200000.0</td>\n",
       "      <td>...</td>\n",
       "      <td>0.0</td>\n",
       "      <td>0.0</td>\n",
       "      <td>0.0</td>\n",
       "      <td>0</td>\n",
       "      <td>0</td>\n",
       "      <td>0</td>\n",
       "      <td>0</td>\n",
       "      <td>0</td>\n",
       "      <td>0</td>\n",
       "      <td>0</td>\n",
       "    </tr>\n",
       "    <tr>\n",
       "      <th>2</th>\n",
       "      <td>10000000.0</td>\n",
       "      <td>0.0</td>\n",
       "      <td>0</td>\n",
       "      <td>0.0</td>\n",
       "      <td>0</td>\n",
       "      <td>0</td>\n",
       "      <td>0</td>\n",
       "      <td>0</td>\n",
       "      <td>0</td>\n",
       "      <td>0.0</td>\n",
       "      <td>...</td>\n",
       "      <td>0.0</td>\n",
       "      <td>0.0</td>\n",
       "      <td>0.0</td>\n",
       "      <td>0</td>\n",
       "      <td>0</td>\n",
       "      <td>0</td>\n",
       "      <td>0</td>\n",
       "      <td>0</td>\n",
       "      <td>0</td>\n",
       "      <td>0</td>\n",
       "    </tr>\n",
       "    <tr>\n",
       "      <th>3</th>\n",
       "      <td>2000000.0</td>\n",
       "      <td>0.0</td>\n",
       "      <td>0</td>\n",
       "      <td>0.0</td>\n",
       "      <td>0</td>\n",
       "      <td>0</td>\n",
       "      <td>0</td>\n",
       "      <td>0</td>\n",
       "      <td>0</td>\n",
       "      <td>0.0</td>\n",
       "      <td>...</td>\n",
       "      <td>0.0</td>\n",
       "      <td>0.0</td>\n",
       "      <td>0.0</td>\n",
       "      <td>0</td>\n",
       "      <td>0</td>\n",
       "      <td>0</td>\n",
       "      <td>0</td>\n",
       "      <td>0</td>\n",
       "      <td>0</td>\n",
       "      <td>0</td>\n",
       "    </tr>\n",
       "    <tr>\n",
       "      <th>4</th>\n",
       "      <td>14400000.0</td>\n",
       "      <td>0.0</td>\n",
       "      <td>0</td>\n",
       "      <td>0.0</td>\n",
       "      <td>0</td>\n",
       "      <td>0</td>\n",
       "      <td>0</td>\n",
       "      <td>0</td>\n",
       "      <td>0</td>\n",
       "      <td>2000000.0</td>\n",
       "      <td>...</td>\n",
       "      <td>0.0</td>\n",
       "      <td>0.0</td>\n",
       "      <td>0.0</td>\n",
       "      <td>0</td>\n",
       "      <td>0</td>\n",
       "      <td>0</td>\n",
       "      <td>0</td>\n",
       "      <td>0</td>\n",
       "      <td>0</td>\n",
       "      <td>0</td>\n",
       "    </tr>\n",
       "  </tbody>\n",
       "</table>\n",
       "<p>5 rows × 4731 columns</p>\n",
       "</div>"
      ],
      "text/plain": [
       "       target  48df886f9  0deb4b6a8  34b15f335  a8cb14b00  2f0771a37  \\\n",
       "0  38000000.0        0.0          0        0.0          0          0   \n",
       "1    600000.0        0.0          0        0.0          0          0   \n",
       "2  10000000.0        0.0          0        0.0          0          0   \n",
       "3   2000000.0        0.0          0        0.0          0          0   \n",
       "4  14400000.0        0.0          0        0.0          0          0   \n",
       "\n",
       "   30347e683  d08d1fbe3  6ee66e115  20aa07010    ...      3ecc09859  \\\n",
       "0          0          0          0        0.0    ...            0.0   \n",
       "1          0          0          0  2200000.0    ...            0.0   \n",
       "2          0          0          0        0.0    ...            0.0   \n",
       "3          0          0          0        0.0    ...            0.0   \n",
       "4          0          0          0  2000000.0    ...            0.0   \n",
       "\n",
       "   9281abeea  8675bec0b  3a13ed79a  f677d4d13  71b203550  137efaa80  \\\n",
       "0        0.0        0.0          0          0          0          0   \n",
       "1        0.0        0.0          0          0          0          0   \n",
       "2        0.0        0.0          0          0          0          0   \n",
       "3        0.0        0.0          0          0          0          0   \n",
       "4        0.0        0.0          0          0          0          0   \n",
       "\n",
       "   fb36b89d9  7e293fbaf  9fc776466  \n",
       "0          0          0          0  \n",
       "1          0          0          0  \n",
       "2          0          0          0  \n",
       "3          0          0          0  \n",
       "4          0          0          0  \n",
       "\n",
       "[5 rows x 4731 columns]"
      ]
     },
     "execution_count": 14,
     "metadata": {},
     "output_type": "execute_result"
    }
   ],
   "source": [
    "dftrain.head()"
   ]
  },
  {
   "cell_type": "code",
   "execution_count": 23,
   "metadata": {},
   "outputs": [],
   "source": [
    "target = np.log1p(dftrain['target'])"
   ]
  },
  {
   "cell_type": "code",
   "execution_count": 161,
   "metadata": {},
   "outputs": [],
   "source": [
    "data_scaled = StandardScaler().fit_transform(dftrain.drop('target', axis = 1))"
   ]
  },
  {
   "cell_type": "code",
   "execution_count": 163,
   "metadata": {},
   "outputs": [
    {
     "data": {
      "text/plain": [
       "(4459, 4730)"
      ]
     },
     "execution_count": 163,
     "metadata": {},
     "output_type": "execute_result"
    }
   ],
   "source": [
    "data_scaled.shape"
   ]
  },
  {
   "cell_type": "code",
   "execution_count": 164,
   "metadata": {},
   "outputs": [],
   "source": [
    "pca_train = PCA(n_components = 2000)\n",
    "train_reduced = pca_train.fit_transform(data_scaled)"
   ]
  },
  {
   "cell_type": "code",
   "execution_count": 165,
   "metadata": {},
   "outputs": [
    {
     "data": {
      "text/plain": [
       "(2000,)"
      ]
     },
     "execution_count": 165,
     "metadata": {},
     "output_type": "execute_result"
    }
   ],
   "source": [
    "var = pca_train.explained_variance_ratio_\n",
    "np.shape(pca_train.explained_variance_ratio_)"
   ]
  },
  {
   "cell_type": "code",
   "execution_count": 166,
   "metadata": {},
   "outputs": [
    {
     "data": {
      "image/png": "[encoded data removed]",
      "text/plain": [
       "<Figure size 432x288 with 1 Axes>"
      ]
     },
     "metadata": {},
     "output_type": "display_data"
    }
   ],
   "source": [
    "plt.plot(np.cumsum(var[var > 0.0]))\n",
    "plt.show()"
   ]
  },
  {
   "cell_type": "code",
   "execution_count": 167,
   "metadata": {},
   "outputs": [],
   "source": [
    "trainx, valx, trainy, valy = train_test_split(train_reduced, target,\n",
    "                                            test_size = 0.15, random_state = 2018, shuffle = True)"
   ]
  },
  {
   "cell_type": "markdown",
   "metadata": {},
   "source": [
    "#### RMSLE metric"
   ]
  },
  {
   "cell_type": "code",
   "execution_count": 176,
   "metadata": {},
   "outputs": [],
   "source": [
    "def rmsle(y_true, y_pred):\n",
    "    assert len(y_true) == len(y_pred)\n",
    "    return np.sqrt(np.mean(np.power(np.log(y_pred + 1) - np.log(y_true + 1), 2)))"
   ]
  },
  {
   "cell_type": "markdown",
   "metadata": {},
   "source": [
    "#### Random forest Model"
   ]
  },
  {
   "cell_type": "code",
   "execution_count": 194,
   "metadata": {},
   "outputs": [],
   "source": [
    "from sklearn.ensemble import RandomForestRegressor\n",
    "\n",
    "rfparams = {'n_estimators': [10, 20, 30, 40],\n",
    "            'max_depth': [7, 20, 40, 60]\n",
    "           }\n",
    "\n",
    "rfmodel = RandomForestRegressor()\n",
    "grid_cv = GridSearchCV(rfmodel, rfparams, scoring = 'neg_mean_squared_log_error', n_jobs = -1, cv = 5, verbose=1)"
   ]
  },
  {
   "cell_type": "code",
   "execution_count": 195,
   "metadata": {},
   "outputs": [
    {
     "name": "stdout",
     "output_type": "stream",
     "text": [
      "Fitting 5 folds for each of 16 candidates, totalling 80 fits\n"
     ]
    },
    {
     "name": "stderr",
     "output_type": "stream",
     "text": [
      "[Parallel(n_jobs=-1)]: Done  42 tasks      | elapsed: 29.2min\n",
      "[Parallel(n_jobs=-1)]: Done  80 out of  80 | elapsed: 65.1min finished\n"
     ]
    },
    {
     "data": {
      "text/plain": [
       "GridSearchCV(cv=5, error_score='raise',\n",
       "       estimator=RandomForestRegressor(bootstrap=True, criterion='mse', max_depth=None,\n",
       "           max_features='auto', max_leaf_nodes=None,\n",
       "           min_impurity_decrease=0.0, min_impurity_split=None,\n",
       "           min_samples_leaf=1, min_samples_split=2,\n",
       "           min_weight_fraction_leaf=0.0, n_estimators=10, n_jobs=1,\n",
       "           oob_score=False, random_state=None, verbose=0, warm_start=False),\n",
       "       fit_params=None, iid=True, n_jobs=-1,\n",
       "       param_grid={'n_estimators': [10, 20, 30, 40], 'max_depth': [7, 20, 40, 60]},\n",
       "       pre_dispatch='2*n_jobs', refit=True, return_train_score='warn',\n",
       "       scoring='neg_mean_squared_log_error', verbose=1)"
      ]
     },
     "execution_count": 195,
     "metadata": {},
     "output_type": "execute_result"
    }
   ],
   "source": [
    "grid_cv.fit(train_reduced, target)"
   ]
  },
  {
   "cell_type": "code",
   "execution_count": 198,
   "metadata": {},
   "outputs": [
    {
     "name": "stderr",
     "output_type": "stream",
     "text": [
      "/Users/sabber/anaconda3/lib/python3.6/site-packages/sklearn/utils/deprecation.py:122: FutureWarning: You are accessing a training score ('split0_train_score'), which will not be available by default any more in 0.21. If you need training scores, please set return_train_score=True\n",
      "  warnings.warn(*warn_args, **warn_kwargs)\n",
      "/Users/sabber/anaconda3/lib/python3.6/site-packages/sklearn/utils/deprecation.py:122: FutureWarning: You are accessing a training score ('split1_train_score'), which will not be available by default any more in 0.21. If you need training scores, please set return_train_score=True\n",
      "  warnings.warn(*warn_args, **warn_kwargs)\n",
      "/Users/sabber/anaconda3/lib/python3.6/site-packages/sklearn/utils/deprecation.py:122: FutureWarning: You are accessing a training score ('split2_train_score'), which will not be available by default any more in 0.21. If you need training scores, please set return_train_score=True\n",
      "  warnings.warn(*warn_args, **warn_kwargs)\n",
      "/Users/sabber/anaconda3/lib/python3.6/site-packages/sklearn/utils/deprecation.py:122: FutureWarning: You are accessing a training score ('split3_train_score'), which will not be available by default any more in 0.21. If you need training scores, please set return_train_score=True\n",
      "  warnings.warn(*warn_args, **warn_kwargs)\n",
      "/Users/sabber/anaconda3/lib/python3.6/site-packages/sklearn/utils/deprecation.py:122: FutureWarning: You are accessing a training score ('split4_train_score'), which will not be available by default any more in 0.21. If you need training scores, please set return_train_score=True\n",
      "  warnings.warn(*warn_args, **warn_kwargs)\n",
      "/Users/sabber/anaconda3/lib/python3.6/site-packages/sklearn/utils/deprecation.py:122: FutureWarning: You are accessing a training score ('mean_train_score'), which will not be available by default any more in 0.21. If you need training scores, please set return_train_score=True\n",
      "  warnings.warn(*warn_args, **warn_kwargs)\n",
      "/Users/sabber/anaconda3/lib/python3.6/site-packages/sklearn/utils/deprecation.py:122: FutureWarning: You are accessing a training score ('std_train_score'), which will not be available by default any more in 0.21. If you need training scores, please set return_train_score=True\n",
      "  warnings.warn(*warn_args, **warn_kwargs)\n"
     ]
    },
    {
     "data": {
      "text/plain": [
       "{'mean_fit_time': array([ 47.74930468, 100.73118663, 165.74799385, 201.56190872,\n",
       "         84.67699275, 166.04744568, 258.93918848, 336.99480047,\n",
       "         83.92473783, 170.21267848, 243.80924549, 323.18763661,\n",
       "         85.4521203 , 196.16479731, 264.15898013, 309.80727382]),\n",
       " 'std_fit_time': array([ 0.37269545,  8.84540567,  7.39810471,  1.00618815,  1.50617498,\n",
       "         2.18857306,  8.17994401,  4.99487915,  3.36736551,  2.55327549,\n",
       "         5.24393383, 11.0476814 ,  3.07922825, 13.66260323, 15.248465  ,\n",
       "        29.77780214]),\n",
       " 'mean_score_time': array([0.01310024, 0.0165204 , 0.01554995, 0.02300048, 0.01657438,\n",
       "        0.01886177, 0.03392491, 0.04475908, 0.013972  , 0.02276931,\n",
       "        0.02749124, 0.03558855, 0.0143065 , 0.03990479, 0.02673392,\n",
       "        0.03296657]),\n",
       " 'std_score_time': array([0.00156254, 0.00544465, 0.00066033, 0.0062061 , 0.00629803,\n",
       "        0.00152519, 0.00580624, 0.00602474, 0.00234477, 0.00482882,\n",
       "        0.00184792, 0.00556804, 0.00287424, 0.00879977, 0.0007631 ,\n",
       "        0.00789143]),\n",
       " 'param_max_depth': masked_array(data=[7, 7, 7, 7, 20, 20, 20, 20, 40, 40, 40, 40, 60, 60, 60,\n",
       "                    60],\n",
       "              mask=[False, False, False, False, False, False, False, False,\n",
       "                    False, False, False, False, False, False, False, False],\n",
       "        fill_value='?',\n",
       "             dtype=object),\n",
       " 'param_n_estimators': masked_array(data=[10, 20, 30, 40, 10, 20, 30, 40, 10, 20, 30, 40, 10, 20,\n",
       "                    30, 40],\n",
       "              mask=[False, False, False, False, False, False, False, False,\n",
       "                    False, False, False, False, False, False, False, False],\n",
       "        fill_value='?',\n",
       "             dtype=object),\n",
       " 'params': [{'max_depth': 7, 'n_estimators': 10},\n",
       "  {'max_depth': 7, 'n_estimators': 20},\n",
       "  {'max_depth': 7, 'n_estimators': 30},\n",
       "  {'max_depth': 7, 'n_estimators': 40},\n",
       "  {'max_depth': 20, 'n_estimators': 10},\n",
       "  {'max_depth': 20, 'n_estimators': 20},\n",
       "  {'max_depth': 20, 'n_estimators': 30},\n",
       "  {'max_depth': 20, 'n_estimators': 40},\n",
       "  {'max_depth': 40, 'n_estimators': 10},\n",
       "  {'max_depth': 40, 'n_estimators': 20},\n",
       "  {'max_depth': 40, 'n_estimators': 30},\n",
       "  {'max_depth': 40, 'n_estimators': 40},\n",
       "  {'max_depth': 60, 'n_estimators': 10},\n",
       "  {'max_depth': 60, 'n_estimators': 20},\n",
       "  {'max_depth': 60, 'n_estimators': 30},\n",
       "  {'max_depth': 60, 'n_estimators': 40}],\n",
       " 'split0_test_score': array([-0.0107099 , -0.01052237, -0.0102372 , -0.01010795, -0.0110563 ,\n",
       "        -0.01021461, -0.01030032, -0.01030878, -0.01116307, -0.0103803 ,\n",
       "        -0.01006941, -0.01022476, -0.01099331, -0.01073947, -0.01015338,\n",
       "        -0.01032956]),\n",
       " 'split1_test_score': array([-0.01159316, -0.01125204, -0.01113732, -0.01113645, -0.01137272,\n",
       "        -0.01101942, -0.01098062, -0.01109981, -0.01224908, -0.01122023,\n",
       "        -0.01117576, -0.01109673, -0.01222159, -0.01140722, -0.01078971,\n",
       "        -0.01117346]),\n",
       " 'split2_test_score': array([-0.01033305, -0.01029694, -0.01024861, -0.01024781, -0.0110214 ,\n",
       "        -0.01027321, -0.01000947, -0.01011516, -0.01096231, -0.01026448,\n",
       "        -0.01046592, -0.010445  , -0.01104485, -0.01034874, -0.01007199,\n",
       "        -0.01039262]),\n",
       " 'split3_test_score': array([-0.01129804, -0.01105294, -0.01084801, -0.0108736 , -0.01153919,\n",
       "        -0.01085186, -0.01061657, -0.01073855, -0.01174628, -0.01106493,\n",
       "        -0.01086816, -0.01081746, -0.01134514, -0.01092418, -0.01093115,\n",
       "        -0.01082921]),\n",
       " 'split4_test_score': array([-0.01215565, -0.01207387, -0.0120004 , -0.01204697, -0.01256343,\n",
       "        -0.01223919, -0.01221364, -0.01199583, -0.01289092, -0.01199185,\n",
       "        -0.01210551, -0.01171383, -0.01242043, -0.01194029, -0.01186517,\n",
       "        -0.01174505]),\n",
       " 'mean_test_score': array([-0.01121775, -0.0110394 , -0.01089406, -0.01088229, -0.01151037,\n",
       "        -0.01091936, -0.01082381, -0.01085137, -0.01180209, -0.01098413,\n",
       "        -0.01093669, -0.01085936, -0.01160488, -0.01107179, -0.01076203,\n",
       "        -0.01089379]),\n",
       " 'std_test_score': array([0.00064298, 0.00062182, 0.00065306, 0.00069604, 0.00056091,\n",
       "        0.00073066, 0.00076614, 0.00066629, 0.00070729, 0.00062603,\n",
       "        0.00069294, 0.00052194, 0.00060004, 0.0005516 , 0.00064684,\n",
       "        0.0005246 ]),\n",
       " 'rank_test_score': array([13, 11,  7,  5, 14,  8,  2,  3, 16, 10,  9,  4, 15, 12,  1,  6],\n",
       "       dtype=int32),\n",
       " 'split0_train_score': array([-0.00696299, -0.00686635, -0.00688497, -0.00683231, -0.00221685,\n",
       "        -0.00179999, -0.00171841, -0.00164652, -0.00213749, -0.00181683,\n",
       "        -0.00172291, -0.00169178, -0.00216425, -0.00184327, -0.00173868,\n",
       "        -0.00164766]),\n",
       " 'split1_train_score': array([-0.00689076, -0.00671828, -0.00677703, -0.0067178 , -0.00213242,\n",
       "        -0.00181362, -0.00168578, -0.00164048, -0.00211054, -0.00176883,\n",
       "        -0.00165534, -0.00167431, -0.00213966, -0.00180157, -0.00166306,\n",
       "        -0.00163504]),\n",
       " 'split2_train_score': array([-0.00756529, -0.00743765, -0.00731867, -0.00720576, -0.00222061,\n",
       "        -0.00182465, -0.00178017, -0.00175002, -0.00217794, -0.00182882,\n",
       "        -0.00174563, -0.00170581, -0.00215109, -0.00185318, -0.00171894,\n",
       "        -0.00169715]),\n",
       " 'split3_train_score': array([-0.00724037, -0.00717371, -0.00700519, -0.00691784, -0.00209389,\n",
       "        -0.00177129, -0.00166564, -0.00167763, -0.00219432, -0.00179304,\n",
       "        -0.00172788, -0.00166872, -0.00209261, -0.00176933, -0.00169716,\n",
       "        -0.00166003]),\n",
       " 'split4_train_score': array([-0.00685312, -0.0068973 , -0.00675694, -0.00681502, -0.00206673,\n",
       "        -0.00185898, -0.00166623, -0.00159565, -0.00205201, -0.00173278,\n",
       "        -0.00167914, -0.00160557, -0.00207729, -0.00177644, -0.00161945,\n",
       "        -0.00162549]),\n",
       " 'mean_train_score': array([-0.00710251, -0.00701866, -0.00694856, -0.00689775, -0.0021461 ,\n",
       "        -0.00181371, -0.00170325, -0.00166206, -0.00213446, -0.00178806,\n",
       "        -0.00170618, -0.00166924, -0.00212498, -0.00180876, -0.00168746,\n",
       "        -0.00165307]),\n",
       " 'std_train_score': array([2.68206268e-04, 2.56026276e-04, 2.05121386e-04, 1.66602462e-04,\n",
       "        6.28815512e-05, 2.88334340e-05, 4.29819899e-05, 5.11817491e-05,\n",
       "        5.07018986e-05, 3.44675653e-05, 3.35347994e-05, 3.44226439e-05,\n",
       "        3.39478239e-05, 3.41042825e-05, 4.22595795e-05, 2.49262695e-05])}"
      ]
     },
     "execution_count": 198,
     "metadata": {},
     "output_type": "execute_result"
    }
   ],
   "source": [
    "grid_cv.cv_results_"
   ]
  },
  {
   "cell_type": "code",
   "execution_count": 199,
   "metadata": {},
   "outputs": [
    {
     "data": {
      "text/plain": [
       "0.04143738425034252"
      ]
     },
     "execution_count": 199,
     "metadata": {},
     "output_type": "execute_result"
    }
   ],
   "source": [
    "predval = grid_cv.predict(train_reduced)\n",
    "rmsle(target, predval)"
   ]
  },
  {
   "cell_type": "code",
   "execution_count": 378,
   "metadata": {},
   "outputs": [],
   "source": [
    "imp_features = pd.DataFrame(np.column_stack(\n",
    "                            [list(dftrain_final.columns), list(rfmodel.feature_importances_)]), \n",
    "                            columns = ['feature', 'importance'])"
   ]
  },
  {
   "cell_type": "code",
   "execution_count": 379,
   "metadata": {},
   "outputs": [],
   "source": [
    "imp_features.importance = imp_features.importance.astype(float)"
   ]
  },
  {
   "cell_type": "code",
   "execution_count": 380,
   "metadata": {},
   "outputs": [
    {
     "data": {
      "text/html": [
       "<div>\n",
       "<table border=\"1\" class=\"dataframe\">\n",
       "  <thead>\n",
       "    <tr style=\"text-align: right;\">\n",
       "      <th></th>\n",
       "      <th>feature</th>\n",
       "      <th>importance</th>\n",
       "    </tr>\n",
       "  </thead>\n",
       "  <tbody>\n",
       "    <tr>\n",
       "      <th>881</th>\n",
       "      <td>f190486d6</td>\n",
       "      <td>0.101340</td>\n",
       "    </tr>\n",
       "    <tr>\n",
       "      <th>742</th>\n",
       "      <td>eeb9cd3aa</td>\n",
       "      <td>0.037169</td>\n",
       "    </tr>\n",
       "    <tr>\n",
       "      <th>509</th>\n",
       "      <td>58e2e02e6</td>\n",
       "      <td>0.034751</td>\n",
       "    </tr>\n",
       "    <tr>\n",
       "      <th>858</th>\n",
       "      <td>15ace8c9f</td>\n",
       "      <td>0.028317</td>\n",
       "    </tr>\n",
       "    <tr>\n",
       "      <th>564</th>\n",
       "      <td>9fd594eec</td>\n",
       "      <td>0.020217</td>\n",
       "    </tr>\n",
       "    <tr>\n",
       "      <th>762</th>\n",
       "      <td>58232a6fb</td>\n",
       "      <td>0.014465</td>\n",
       "    </tr>\n",
       "    <tr>\n",
       "      <th>0</th>\n",
       "      <td>20aa07010</td>\n",
       "      <td>0.013499</td>\n",
       "    </tr>\n",
       "    <tr>\n",
       "      <th>794</th>\n",
       "      <td>d6bb78916</td>\n",
       "      <td>0.010450</td>\n",
       "    </tr>\n",
       "    <tr>\n",
       "      <th>294</th>\n",
       "      <td>024c577b9</td>\n",
       "      <td>0.009687</td>\n",
       "    </tr>\n",
       "    <tr>\n",
       "      <th>167</th>\n",
       "      <td>6eef030c1</td>\n",
       "      <td>0.009442</td>\n",
       "    </tr>\n",
       "  </tbody>\n",
       "</table>\n",
       "</div>"
      ],
      "text/plain": [
       "       feature  importance\n",
       "881  f190486d6    0.101340\n",
       "742  eeb9cd3aa    0.037169\n",
       "509  58e2e02e6    0.034751\n",
       "858  15ace8c9f    0.028317\n",
       "564  9fd594eec    0.020217\n",
       "762  58232a6fb    0.014465\n",
       "0    20aa07010    0.013499\n",
       "794  d6bb78916    0.010450\n",
       "294  024c577b9    0.009687\n",
       "167  6eef030c1    0.009442"
      ]
     },
     "execution_count": 380,
     "metadata": {},
     "output_type": "execute_result"
    }
   ],
   "source": [
    "imp_features.sort_values('importance', ascending= False).head(10)"
   ]
  },
  {
   "cell_type": "code",
   "execution_count": 183,
   "metadata": {},
   "outputs": [],
   "source": [
    "# plt.plot(list(imp_features.sort_values('importance', ascending= False).head(100)['importance']))\n",
    "# plt.show()"
   ]
  },
  {
   "cell_type": "code",
   "execution_count": 281,
   "metadata": {},
   "outputs": [
    {
     "data": {
      "text/html": [
       "<div>\n",
       "<table border=\"1\" class=\"dataframe\">\n",
       "  <thead>\n",
       "    <tr style=\"text-align: right;\">\n",
       "      <th></th>\n",
       "      <th>index</th>\n",
       "      <th>train</th>\n",
       "      <th>test</th>\n",
       "    </tr>\n",
       "  </thead>\n",
       "  <tbody>\n",
       "    <tr>\n",
       "      <th>0</th>\n",
       "      <td>count</td>\n",
       "      <td>4.459000e+03</td>\n",
       "      <td>4.934200e+04</td>\n",
       "    </tr>\n",
       "    <tr>\n",
       "      <th>1</th>\n",
       "      <td>mean</td>\n",
       "      <td>2.565014e+06</td>\n",
       "      <td>1.460995e+06</td>\n",
       "    </tr>\n",
       "    <tr>\n",
       "      <th>2</th>\n",
       "      <td>std</td>\n",
       "      <td>8.906709e+06</td>\n",
       "      <td>6.730017e+06</td>\n",
       "    </tr>\n",
       "    <tr>\n",
       "      <th>3</th>\n",
       "      <td>min</td>\n",
       "      <td>0.000000e+00</td>\n",
       "      <td>0.000000e+00</td>\n",
       "    </tr>\n",
       "    <tr>\n",
       "      <th>4</th>\n",
       "      <td>25%</td>\n",
       "      <td>0.000000e+00</td>\n",
       "      <td>0.000000e+00</td>\n",
       "    </tr>\n",
       "    <tr>\n",
       "      <th>5</th>\n",
       "      <td>50%</td>\n",
       "      <td>0.000000e+00</td>\n",
       "      <td>0.000000e+00</td>\n",
       "    </tr>\n",
       "    <tr>\n",
       "      <th>6</th>\n",
       "      <td>75%</td>\n",
       "      <td>7.165000e+05</td>\n",
       "      <td>0.000000e+00</td>\n",
       "    </tr>\n",
       "    <tr>\n",
       "      <th>7</th>\n",
       "      <td>max</td>\n",
       "      <td>3.196120e+08</td>\n",
       "      <td>2.000000e+08</td>\n",
       "    </tr>\n",
       "  </tbody>\n",
       "</table>\n",
       "</div>"
      ],
      "text/plain": [
       "   index         train          test\n",
       "0  count  4.459000e+03  4.934200e+04\n",
       "1   mean  2.565014e+06  1.460995e+06\n",
       "2    std  8.906709e+06  6.730017e+06\n",
       "3    min  0.000000e+00  0.000000e+00\n",
       "4    25%  0.000000e+00  0.000000e+00\n",
       "5    50%  0.000000e+00  0.000000e+00\n",
       "6    75%  7.165000e+05  0.000000e+00\n",
       "7    max  3.196120e+08  2.000000e+08"
      ]
     },
     "execution_count": 281,
     "metadata": {},
     "output_type": "execute_result"
    }
   ],
   "source": [
    "pd.merge(dftrain.f190486d6.describe().to_frame('train').reset_index(),\n",
    "         dftest.f190486d6.describe().to_frame('test').reset_index(),\n",
    "         on = 'index',\n",
    "         how = 'outer')"
   ]
  },
  {
   "cell_type": "code",
   "execution_count": 382,
   "metadata": {},
   "outputs": [],
   "source": [
    "non_important_features = imp_features[imp_features.importance == 0.0]['feature'].tolist()"
   ]
  },
  {
   "cell_type": "code",
   "execution_count": 347,
   "metadata": {},
   "outputs": [],
   "source": [
    "dftrain_final = dftrain.drop(non_important_features, axis =1)"
   ]
  },
  {
   "cell_type": "code",
   "execution_count": 348,
   "metadata": {},
   "outputs": [],
   "source": [
    "dftest_final = dftest.drop(non_important_features, axis =1)"
   ]
  },
  {
   "cell_type": "code",
   "execution_count": 350,
   "metadata": {},
   "outputs": [
    {
     "name": "stdout",
     "output_type": "stream",
     "text": [
      "(4459, 1031) (49342, 1031)\n"
     ]
    }
   ],
   "source": [
    "print(dftrain_final.shape, dftest_final.shape)"
   ]
  },
  {
   "cell_type": "markdown",
   "metadata": {},
   "source": [
    "#### Single lightGBM model"
   ]
  },
  {
   "cell_type": "code",
   "execution_count": 209,
   "metadata": {},
   "outputs": [],
   "source": [
    "trainx, valx, trainy, valy = train_test_split(train_reduced, target,\n",
    "                                            test_size = 0.25, random_state = 2018, shuffle = True)"
   ]
  },
  {
   "cell_type": "code",
   "execution_count": 220,
   "metadata": {},
   "outputs": [],
   "source": [
    "params = {\n",
    "    \"objective\" : \"regression\",\n",
    "    \"metric\" : \"rmse\",\n",
    "    \"num_leaves\" : 50,\n",
    "    \"max_depth\": 7, \n",
    "#     \"min_data_in_leaf\" : 10,\n",
    "#     'min_child_weight': 10\n",
    "    \"bagging_fraction\" : 0.6,\n",
    "    \"feature_fraction\" : 0.6,\n",
    "    \"bagging_frequency\" : 6,\n",
    "    \"verbosity\" : -1,\n",
    "    \"seed\": 42\n",
    "}\n",
    "\n",
    "lgtrain = lgb.Dataset(trainx, label = trainy)\n",
    "lgval = lgb.Dataset(valx, label = valy)\n",
    "\n",
    "evals_result = {}"
   ]
  },
  {
   "cell_type": "code",
   "execution_count": 221,
   "metadata": {},
   "outputs": [
    {
     "name": "stdout",
     "output_type": "stream",
     "text": [
      "[150]\ttraining's rmse: 0.103718\tvalid_1's rmse: 1.58322\n",
      "[300]\ttraining's rmse: 0.0126971\tvalid_1's rmse: 1.58296\n",
      "[450]\ttraining's rmse: 0.00458269\tvalid_1's rmse: 1.58278\n",
      "[600]\ttraining's rmse: 0.00204806\tvalid_1's rmse: 1.58278\n",
      "[750]\ttraining's rmse: 0.00100863\tvalid_1's rmse: 1.58278\n",
      "[900]\ttraining's rmse: 0.000496942\tvalid_1's rmse: 1.58277\n",
      "[1050]\ttraining's rmse: 0.000262857\tvalid_1's rmse: 1.58277\n",
      "[1200]\ttraining's rmse: 0.000147723\tvalid_1's rmse: 1.58277\n",
      "[1350]\ttraining's rmse: 8.38597e-05\tvalid_1's rmse: 1.58276\n",
      "[1500]\ttraining's rmse: 4.91978e-05\tvalid_1's rmse: 1.58276\n",
      "[1650]\ttraining's rmse: 2.90805e-05\tvalid_1's rmse: 1.58276\n",
      "[1800]\ttraining's rmse: 1.77551e-05\tvalid_1's rmse: 1.58276\n"
     ]
    }
   ],
   "source": [
    "model = lgb.train(params, lgtrain, num_boost_round = 1800, \n",
    "                  valid_sets=[lgtrain, lgval], \n",
    "#                   early_stopping_rounds = 200, \n",
    "                  verbose_eval = 150, \n",
    "                  evals_result = evals_result)"
   ]
  },
  {
   "cell_type": "code",
   "execution_count": 219,
   "metadata": {},
   "outputs": [
    {
     "data": {
      "image/png": "[encoded data removed]",
      "text/plain": [
       "<Figure size 432x288 with 1 Axes>"
      ]
     },
     "metadata": {},
     "output_type": "display_data"
    }
   ],
   "source": [
    "plt.plot(evals_result['training']['rmse'], label = 'Train')\n",
    "plt.plot(evals_result['valid_1']['rmse'], label = 'Validation')\n",
    "plt.show()"
   ]
  },
  {
   "cell_type": "markdown",
   "metadata": {},
   "source": [
    "## Model building"
   ]
  },
  {
   "cell_type": "markdown",
   "metadata": {},
   "source": [
    "#### Ensemble model"
   ]
  },
  {
   "cell_type": "code",
   "execution_count": 32,
   "metadata": {},
   "outputs": [],
   "source": [
    "from sklearn.model_selection import KFold\n",
    "from sklearn.metrics import r2_score\n",
    "\n",
    "def r2score(y_true, y_pred):\n",
    "    assert len(y_true) == len(y_pred)\n",
    "    return r2_score(y_true, y_pred)\n",
    "\n",
    "def rmsle(y_true, y_pred):\n",
    "    assert len(y_true) == len(y_pred)\n",
    "    return np.sqrt(np.mean(np.power(np.log(y_pred + 1) - np.log(y_true + 1), 2)))\n",
    "\n",
    "class Create_ensemble(object):\n",
    "    def __init__(self, n_splits, base_models):\n",
    "        self.n_splits = n_splits\n",
    "        self.base_models = base_models\n",
    "\n",
    "    def predict(self, X, y, T):\n",
    "        X = np.array(X)\n",
    "        y = np.array(y)\n",
    "        T = np.array(T)\n",
    "\n",
    "        folds = list(KFold(n_splits=self.n_splits, shuffle=True, random_state=2016).split(X, y))\n",
    "\n",
    "        S_train = np.zeros((X.shape[0], len(self.base_models)))\n",
    "        S_test = np.zeros((T.shape[0], len(self.base_models)))\n",
    "        \n",
    "        for i, clf in enumerate(self.base_models):\n",
    "            S_test_i = np.zeros((T.shape[0], self.n_splits))\n",
    "\n",
    "            for j, (train_idx, valid_idx) in enumerate(folds):\n",
    "                X_train = X[train_idx]\n",
    "                y_train = y[train_idx]\n",
    "                X_valid = X[valid_idx]\n",
    "                y_valid = y[valid_idx]\n",
    "                clf.fit(X_train, y_train)\n",
    "                valid_pred = clf.predict(X_valid)\n",
    "                S_train[valid_idx, i] = valid_pred\n",
    "                S_test_i[:, j] = clf.predict(T)\n",
    "                \n",
    "                print('Model: {}, fold: {}, rmsle: {}'.format(i, j, rmsle(y_valid, valid_pred)))\n",
    "            print( \"\\nTraining RMSLE for model {} : {}\".format(i, rmsle(y, S_train[:,i])))\n",
    "            S_test[:, i] = S_test_i.mean(axis=1)\n",
    "            \n",
    "        return S_train, S_test"
   ]
  },
  {
   "cell_type": "code",
   "execution_count": 33,
   "metadata": {},
   "outputs": [],
   "source": [
    "# LightGBM params# LightG \n",
    "lgb_params = {}\n",
    "lgb_params['learning_rate'] = 0.75\n",
    "lgb_params['n_estimators'] = 200\n",
    "lgb_params['max_depth'] = 60\n",
    "lgb_params['num_leaves'] = 50\n",
    "lgb_params['n_jobs'] = 4\n",
    "lgb_params['random_state'] = 2018\n",
    "\n",
    "lgb_model = LGBMRegressor(**lgb_params)\n"
   ]
  },
  {
   "cell_type": "code",
   "execution_count": 34,
   "metadata": {},
   "outputs": [
    {
     "name": "stdout",
     "output_type": "stream",
     "text": [
      "Model: 0, fold: 0, rmsle: 0.12273527151630555\n",
      "Model: 0, fold: 1, rmsle: 0.12456017947925055\n",
      "Model: 0, fold: 2, rmsle: 0.11953675734322776\n",
      "Model: 0, fold: 3, rmsle: 0.12557818199822304\n",
      "Model: 0, fold: 4, rmsle: 0.12193341555573399\n",
      "\n",
      "Training RMSLE for model 0 : 0.12288703829034306\n"
     ]
    }
   ],
   "source": [
    "ensemble = Create_ensemble(n_splits = 5, base_models = [lgb_model])\n",
    "X = xtrain\n",
    "Y = ytrain\n",
    "T = dftest\n",
    "train_pred, test_pred = ensemble.predict(X, Y, T)"
   ]
  },
  {
   "cell_type": "code",
   "execution_count": 19,
   "metadata": {},
   "outputs": [
    {
     "data": {
      "text/plain": [
       "(49342, 1)"
      ]
     },
     "execution_count": 19,
     "metadata": {},
     "output_type": "execute_result"
    }
   ],
   "source": [
    "np.shape(test_pred)"
   ]
  },
  {
   "cell_type": "code",
   "execution_count": 25,
   "metadata": {},
   "outputs": [
    {
     "name": "stdout",
     "output_type": "stream",
     "text": [
      "[[2729819.88132433]\n",
      " [1463360.32109127]\n",
      " [1075694.11119517]\n",
      " [4542144.50332641]\n",
      " [1933654.3661349 ]\n",
      " [1165704.14348746]\n",
      " [3109700.55891942]\n",
      " [2760395.83575539]\n",
      " [1813145.498976  ]\n",
      " [1001444.60337879]]\n",
      "[38000000.   600000. 10000000. ...  2800000. 10000000. 20000000.]\n"
     ]
    }
   ],
   "source": [
    "print(np.expm1(test_pred[0:10]))\n",
    "print(dftrain.target.values)"
   ]
  },
  {
   "cell_type": "code",
   "execution_count": 22,
   "metadata": {},
   "outputs": [
    {
     "ename": "TypeError",
     "evalue": "column_stack() got an unexpected keyword argument 'columns'",
     "output_type": "error",
     "traceback": [
      "\u001b[0;31m---------------------------------------------------------------------------\u001b[0m",
      "\u001b[0;31mTypeError\u001b[0m                                 Traceback (most recent call last)",
      "\u001b[0;32m<ipython-input-22-52169f11a095>\u001b[0m in \u001b[0;36m<module>\u001b[0;34m()\u001b[0m\n\u001b[1;32m      5\u001b[0m                          \u001b[0mnp\u001b[0m\u001b[0;34m.\u001b[0m\u001b[0mexpm1\u001b[0m\u001b[0;34m(\u001b[0m\u001b[0mtrain_pred\u001b[0m\u001b[0;34m[\u001b[0m\u001b[0;36m0\u001b[0m\u001b[0;34m:\u001b[0m\u001b[0mlength\u001b[0m\u001b[0;34m]\u001b[0m\u001b[0;34m)\u001b[0m\u001b[0;34m,\u001b[0m\u001b[0;34m\u001b[0m\u001b[0m\n\u001b[1;32m      6\u001b[0m                          np.absolute(np.expm1(test_pred[0:length]) - np.expm1(train_pred[0:length]))], \n\u001b[0;32m----> 7\u001b[0;31m              columns = ['predictions', 'validations', 'difference']))\n\u001b[0m",
      "\u001b[0;31mTypeError\u001b[0m: column_stack() got an unexpected keyword argument 'columns'"
     ]
    }
   ],
   "source": [
    "length = 20\n",
    "\n",
    "pd.DataFrame(np.column_stack(\n",
    "                        [np.expm1(test_pred[0:length]), \n",
    "                         np.expm1(train_pred[0:length]), \n",
    "                         np.absolute(np.expm1(test_pred[0:length]) - np.expm1(train_pred[0:length]))], \n",
    "             columns = ['predictions', 'validations', 'difference']))"
   ]
  },
  {
   "cell_type": "markdown",
   "metadata": {},
   "source": [
    "### Submission"
   ]
  },
  {
   "cell_type": "code",
   "execution_count": 26,
   "metadata": {},
   "outputs": [],
   "source": [
    "sub = pd.read_csv('../data/sample_submission.csv')"
   ]
  },
  {
   "cell_type": "code",
   "execution_count": 27,
   "metadata": {},
   "outputs": [],
   "source": [
    "sub[\"target\"] = np.expm1(test_pred)"
   ]
  },
  {
   "cell_type": "code",
   "execution_count": 28,
   "metadata": {},
   "outputs": [],
   "source": [
    "sub.to_csv('submission_with_ensembled.csv', index=False)"
   ]
  },
  {
   "cell_type": "code",
   "execution_count": null,
   "metadata": {},
   "outputs": [],
   "source": []
  },
  {
   "cell_type": "code",
   "execution_count": null,
   "metadata": {},
   "outputs": [],
   "source": []
  },
  {
   "cell_type": "code",
   "execution_count": null,
   "metadata": {},
   "outputs": [],
   "source": []
  },
  {
   "cell_type": "code",
   "execution_count": null,
   "metadata": {},
   "outputs": [],
   "source": []
  },
  {
   "cell_type": "code",
   "execution_count": null,
   "metadata": {},
   "outputs": [],
   "source": []
  },
  {
   "cell_type": "code",
   "execution_count": null,
   "metadata": {},
   "outputs": [],
   "source": []
  },
  {
   "cell_type": "code",
   "execution_count": null,
   "metadata": {},
   "outputs": [],
   "source": []
  },
  {
   "cell_type": "code",
   "execution_count": null,
   "metadata": {},
   "outputs": [],
   "source": []
  },
  {
   "cell_type": "code",
   "execution_count": null,
   "metadata": {},
   "outputs": [],
   "source": []
  },
  {
   "cell_type": "code",
   "execution_count": null,
   "metadata": {},
   "outputs": [],
   "source": []
  },
  {
   "cell_type": "code",
   "execution_count": null,
   "metadata": {},
   "outputs": [],
   "source": []
  }
 ],
 "metadata": {
  "kernelspec": {
   "display_name": "Python 3",
   "language": "python",
   "name": "python3"
  },
  "language_info": {
   "codemirror_mode": {
    "name": "ipython",
    "version": 3
   },
   "file_extension": ".py",
   "mimetype": "text/x-python",
   "name": "python",
   "nbconvert_exporter": "python",
   "pygments_lexer": "ipython3",
   "version": "3.6.5"
  }
 },
 "nbformat": 4,
 "nbformat_minor": 2
}
